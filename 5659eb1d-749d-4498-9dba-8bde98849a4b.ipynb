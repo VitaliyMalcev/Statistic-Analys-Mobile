{
 "cells": [
  {
   "cell_type": "markdown",
   "metadata": {},
   "source": [
    "# Рассмотрим файлы"
   ]
  },
  {
   "cell_type": "markdown",
   "metadata": {},
   "source": [
    "Аналитика для компании — федерального оператора сотовой связи. Клиентам предлагают два тарифных плана: «Смарт» и «Ультра». Чтобы скорректировать рекламный бюджет, коммерческий департамент хочет понять, какой тариф приносит больше денег.\n",
    "Предстоит сделать предварительный анализ тарифов на небольшой выборке клиентов. В нашем распоряжении данные 500 пользователей «Мегалайна»: кто они, откуда, каким тарифом пользуются, сколько звонков и сообщений каждый отправил за 2018 год. Нужно проанализировать поведение клиентов и сделать вывод — какой тариф лучше."
   ]
  },
  {
   "cell_type": "code",
   "execution_count": 56,
   "metadata": {},
   "outputs": [
    {
     "name": "stdout",
     "output_type": "stream",
     "text": [
      "       id  call_date  duration  user_id\n",
      "0  1000_0 2018-07-25      0.00     1000\n",
      "1  1000_1 2018-08-17      0.00     1000\n",
      "2  1000_2 2018-06-11      2.85     1000\n",
      "3  1000_3 2018-09-21     13.80     1000\n",
      "4  1000_4 2018-12-15      5.18     1000\n",
      "5  1000_5 2018-11-02      0.00     1000\n",
      "6  1000_6 2018-10-18      0.00     1000\n",
      "7  1000_7 2018-08-22     18.31     1000\n",
      "8  1000_8 2018-09-15     18.44     1000\n",
      "9  1000_9 2018-08-15      0.00     1000\n",
      "<class 'pandas.core.frame.DataFrame'>\n",
      "RangeIndex: 202607 entries, 0 to 202606\n",
      "Data columns (total 4 columns):\n",
      "id           202607 non-null object\n",
      "call_date    202607 non-null datetime64[ns]\n",
      "duration     202607 non-null float64\n",
      "user_id      202607 non-null int64\n",
      "dtypes: datetime64[ns](1), float64(1), int64(1), object(1)\n",
      "memory usage: 6.2+ MB\n"
     ]
    }
   ],
   "source": [
    "import pandas as pd\n",
    "import numpy as np\n",
    "import matplotlib.pyplot as plt\n",
    "import matplotlib\n",
    "matplotlib.style.use('ggplot')\n",
    "from scipy import stats as st\n",
    "\n",
    "#изучим звонки<font color='brown'>В начале работы хорошо бы коротко описать наши данные и обрисовать цели.\n",
    "calls = pd.read_csv('/datasets/calls.csv')\n",
    "\n",
    "#сразу будем переводить все даты в формат дат\n",
    "calls['call_date']= pd.to_datetime(calls['call_date'], format='%Y-%m-%d')\n",
    "print(calls.head(10))\n",
    "calls.info()\n",
    "# здесь надо разобраться с длительностью звонков."
   ]
  },
  {
   "cell_type": "code",
   "execution_count": 57,
   "metadata": {
    "scrolled": true
   },
   "outputs": [
    {
     "name": "stdout",
     "output_type": "stream",
     "text": [
      "0.00     39613\n",
      "4.49       142\n",
      "5.50       142\n",
      "6.15       141\n",
      "6.38       141\n",
      "         ...  \n",
      "27.02        1\n",
      "26.19        1\n",
      "25.34        1\n",
      "27.13        1\n",
      "24.28        1\n",
      "Name: duration, Length: 2871, dtype: int64\n"
     ]
    }
   ],
   "source": [
    "print(calls['duration'].value_counts()) # нет значений нан или не нулевых \n",
    "# судя по информации из интернета мы делаем предположение что звонки с нулевым временем это недозвоны. \n",
    "# такие звонки тарифицируются как 1 минута разговора (https://www.iphones.ru/iNotes/539422). \n",
    "#(хотя правильно было бы уточнить у оператора условия их тарифов)\n",
    "\n",
    "# сделаем столбик полных затраченных минут по тарифу.\n",
    "calls['minutes']= (calls['duration']//1+1)\n",
    "#переведем его в инт\n",
    "calls['minutes'] = calls['minutes'].astype('int')"
   ]
  },
  {
   "cell_type": "markdown",
   "metadata": {},
   "source": [
    "<font color='green'>Молодец, что не забыл не только округлить, но и поменять тип."
   ]
  },
  {
   "cell_type": "code",
   "execution_count": 58,
   "metadata": {},
   "outputs": [
    {
     "name": "stdout",
     "output_type": "stream",
     "text": [
      "<class 'pandas.core.frame.DataFrame'>\n",
      "RangeIndex: 149396 entries, 0 to 149395\n",
      "Data columns (total 4 columns):\n",
      "id              149396 non-null object\n",
      "mb_used         149396 non-null float64\n",
      "session_date    149396 non-null datetime64[ns]\n",
      "user_id         149396 non-null int64\n",
      "dtypes: datetime64[ns](1), float64(1), int64(1), object(1)\n",
      "memory usage: 4.6+ MB\n",
      "       id  mb_used session_date  user_id\n",
      "0  1000_0      112   2018-11-25     1000\n",
      "1  1000_1     1052   2018-09-07     1000\n",
      "2  1000_2     1197   2018-06-25     1000\n",
      "3  1000_3      550   2018-08-22     1000\n",
      "4  1000_4      302   2018-09-24     1000\n",
      "5  1000_5      399   2018-10-02     1000\n",
      "6  1000_6      540   2018-09-07     1000\n",
      "7  1000_7      415   2018-07-11     1000\n",
      "8  1000_8      505   2018-10-08     1000\n",
      "9  1000_9      345   2018-09-03     1000\n"
     ]
    }
   ],
   "source": [
    "internet = pd.read_csv('/datasets/internet.csv')\n",
    "internet['session_date']= pd.to_datetime(internet['session_date'], format='%Y-%m-%d')\n",
    "internet.info()\n",
    "internet['mb_used'] = internet['mb_used'].astype('int')\n",
    "print(internet.head(10)) # тут все понятно"
   ]
  },
  {
   "cell_type": "markdown",
   "metadata": {},
   "source": [
    "<s><font color='red'>А вот мегабайты округлить, похоже, забыл. Это не так критично, как с минутами, но все же."
   ]
  },
  {
   "cell_type": "code",
   "execution_count": 59,
   "metadata": {},
   "outputs": [
    {
     "name": "stdout",
     "output_type": "stream",
     "text": [
      "<class 'pandas.core.frame.DataFrame'>\n",
      "RangeIndex: 123036 entries, 0 to 123035\n",
      "Data columns (total 3 columns):\n",
      "id              123036 non-null object\n",
      "message_date    123036 non-null datetime64[ns]\n",
      "user_id         123036 non-null int64\n",
      "dtypes: datetime64[ns](1), int64(1), object(1)\n",
      "memory usage: 2.8+ MB\n",
      "       id message_date  user_id\n",
      "0  1000_0   2018-06-27     1000\n",
      "1  1000_1   2018-10-08     1000\n",
      "2  1000_2   2018-08-04     1000\n",
      "3  1000_3   2018-06-16     1000\n",
      "4  1000_4   2018-12-05     1000\n"
     ]
    }
   ],
   "source": [
    "#сообщения \n",
    "messages = pd.read_csv('/datasets/messages.csv')\n",
    "messages['message_date']= pd.to_datetime(messages['message_date'], format='%Y-%m-%d')\n",
    "messages.info()\n",
    "\n",
    "print(messages.head())"
   ]
  },
  {
   "cell_type": "code",
   "execution_count": 60,
   "metadata": {},
   "outputs": [
    {
     "name": "stdout",
     "output_type": "stream",
     "text": [
      "<class 'pandas.core.frame.DataFrame'>\n",
      "RangeIndex: 500 entries, 0 to 499\n",
      "Data columns (total 8 columns):\n",
      "user_id       500 non-null int64\n",
      "age           500 non-null int64\n",
      "churn_date    38 non-null datetime64[ns]\n",
      "city          500 non-null object\n",
      "first_name    500 non-null object\n",
      "last_name     500 non-null object\n",
      "reg_date      500 non-null datetime64[ns]\n",
      "tariff        500 non-null object\n",
      "dtypes: datetime64[ns](2), int64(2), object(4)\n",
      "memory usage: 31.4+ KB\n",
      "   user_id  age churn_date         city first_name  last_name   reg_date  \\\n",
      "0     1000   52        NaT    Краснодар     Рафаил  Верещагин 2018-05-25   \n",
      "1     1001   41        NaT       Москва       Иван       Ежов 2018-11-01   \n",
      "2     1002   59        NaT  Стерлитамак    Евгений  Абрамович 2018-06-17   \n",
      "3     1003   23        NaT       Москва      Белла   Белякова 2018-08-17   \n",
      "4     1004   68        NaT  Новокузнецк    Татьяна   Авдеенко 2018-05-14   \n",
      "\n",
      "  tariff  \n",
      "0  ultra  \n",
      "1  smart  \n",
      "2  smart  \n",
      "3  ultra  \n",
      "4  ultra  \n"
     ]
    }
   ],
   "source": [
    "users = pd.read_csv('/datasets/users.csv')\n",
    "users['reg_date']= pd.to_datetime(users['reg_date'], format='%Y-%m-%d')\n",
    "users['churn_date']= pd.to_datetime(users['churn_date'], format='%Y-%m-%d')\n",
    "users.info()\n",
    "print(users.head())\n",
    "# только 38 человек из 500 сменили тариф"
   ]
  },
  {
   "cell_type": "code",
   "execution_count": 61,
   "metadata": {},
   "outputs": [
    {
     "data": {
      "text/html": [
       "<div>\n",
       "<style scoped>\n",
       "    .dataframe tbody tr th:only-of-type {\n",
       "        vertical-align: middle;\n",
       "    }\n",
       "\n",
       "    .dataframe tbody tr th {\n",
       "        vertical-align: top;\n",
       "    }\n",
       "\n",
       "    .dataframe thead th {\n",
       "        text-align: right;\n",
       "    }\n",
       "</style>\n",
       "<table border=\"1\" class=\"dataframe\">\n",
       "  <thead>\n",
       "    <tr style=\"text-align: right;\">\n",
       "      <th></th>\n",
       "      <th>user_id</th>\n",
       "      <th>age</th>\n",
       "      <th>churn_date</th>\n",
       "      <th>city</th>\n",
       "      <th>first_name</th>\n",
       "      <th>last_name</th>\n",
       "      <th>reg_date</th>\n",
       "      <th>tariff</th>\n",
       "    </tr>\n",
       "  </thead>\n",
       "  <tbody>\n",
       "    <tr>\n",
       "      <td>0</td>\n",
       "      <td>1000</td>\n",
       "      <td>52</td>\n",
       "      <td>NaT</td>\n",
       "      <td>Краснодар</td>\n",
       "      <td>Рафаил</td>\n",
       "      <td>Верещагин</td>\n",
       "      <td>2018-05-25</td>\n",
       "      <td>ultra</td>\n",
       "    </tr>\n",
       "    <tr>\n",
       "      <td>1</td>\n",
       "      <td>1001</td>\n",
       "      <td>41</td>\n",
       "      <td>NaT</td>\n",
       "      <td>Москва</td>\n",
       "      <td>Иван</td>\n",
       "      <td>Ежов</td>\n",
       "      <td>2018-11-01</td>\n",
       "      <td>smart</td>\n",
       "    </tr>\n",
       "    <tr>\n",
       "      <td>2</td>\n",
       "      <td>1002</td>\n",
       "      <td>59</td>\n",
       "      <td>NaT</td>\n",
       "      <td>Стерлитамак</td>\n",
       "      <td>Евгений</td>\n",
       "      <td>Абрамович</td>\n",
       "      <td>2018-06-17</td>\n",
       "      <td>smart</td>\n",
       "    </tr>\n",
       "    <tr>\n",
       "      <td>3</td>\n",
       "      <td>1003</td>\n",
       "      <td>23</td>\n",
       "      <td>NaT</td>\n",
       "      <td>Москва</td>\n",
       "      <td>Белла</td>\n",
       "      <td>Белякова</td>\n",
       "      <td>2018-08-17</td>\n",
       "      <td>ultra</td>\n",
       "    </tr>\n",
       "    <tr>\n",
       "      <td>4</td>\n",
       "      <td>1004</td>\n",
       "      <td>68</td>\n",
       "      <td>NaT</td>\n",
       "      <td>Новокузнецк</td>\n",
       "      <td>Татьяна</td>\n",
       "      <td>Авдеенко</td>\n",
       "      <td>2018-05-14</td>\n",
       "      <td>ultra</td>\n",
       "    </tr>\n",
       "  </tbody>\n",
       "</table>\n",
       "</div>"
      ],
      "text/plain": [
       "   user_id  age churn_date         city first_name  last_name   reg_date  \\\n",
       "0     1000   52        NaT    Краснодар     Рафаил  Верещагин 2018-05-25   \n",
       "1     1001   41        NaT       Москва       Иван       Ежов 2018-11-01   \n",
       "2     1002   59        NaT  Стерлитамак    Евгений  Абрамович 2018-06-17   \n",
       "3     1003   23        NaT       Москва      Белла   Белякова 2018-08-17   \n",
       "4     1004   68        NaT  Новокузнецк    Татьяна   Авдеенко 2018-05-14   \n",
       "\n",
       "  tariff  \n",
       "0  ultra  \n",
       "1  smart  \n",
       "2  smart  \n",
       "3  ultra  \n",
       "4  ultra  "
      ]
     },
     "execution_count": 61,
     "metadata": {},
     "output_type": "execute_result"
    }
   ],
   "source": [
    "users.head()"
   ]
  },
  {
   "cell_type": "code",
   "execution_count": 62,
   "metadata": {},
   "outputs": [
    {
     "name": "stdout",
     "output_type": "stream",
     "text": [
      "   messages_included  mg_per_month_included  minutes_included  \\\n",
      "0                 50                  15360               500   \n",
      "1               1000                  30720              3000   \n",
      "\n",
      "   rub_monthly_fee  rub_per_gb  rub_per_message  rub_per_minute tariff_name  \n",
      "0              550         200                3               3       smart  \n",
      "1             1950         150                1               1       ultra  \n"
     ]
    }
   ],
   "source": [
    "#тарифы\n",
    "tariffs = pd.read_csv('/datasets/tariffs.csv')\n",
    "print(tariffs)"
   ]
  },
  {
   "cell_type": "markdown",
   "metadata": {},
   "source": [
    "#### Мы рассмотрели данные, дополнили информацию по исопльзуемым минутам. Перевели даты в формат дат."
   ]
  },
  {
   "cell_type": "markdown",
   "metadata": {},
   "source": [
    "<font color='green'>Отлично, данные загружены и изучены. Найдены и устранены основные проблемы."
   ]
  },
  {
   "cell_type": "markdown",
   "metadata": {},
   "source": [
    "# Подготовка данных"
   ]
  },
  {
   "cell_type": "code",
   "execution_count": 63,
   "metadata": {},
   "outputs": [],
   "source": [
    "#Посчитайте для каждого пользователя:\n",
    "#количество сделанных звонков и израсходованных минут разговора по месяцам;\n",
    "\n",
    "#выделим месяц в отдельный стобик\n",
    "def needmonth(col):\n",
    "    date = col['call_date']\n",
    "    return date.month\n",
    "calls['month'] = calls.apply(needmonth, axis=1)\n",
    "\n",
    "calls_pivot = pd.pivot_table(calls, index = 'user_id',columns = 'month',values ='minutes', aggfunc = 'sum')\n",
    "\n",
    "#print(calls_pivot.head(5))"
   ]
  },
  {
   "cell_type": "markdown",
   "metadata": {},
   "source": [
    "<font color='blue'>Ооххх, здесь гораздо проще было через мультииндекс: index = ['user_id','month'], дальше в пару строк объединить таблицы и все. Но ты, я вижу, не ищешь легких путей ;)"
   ]
  },
  {
   "cell_type": "code",
   "execution_count": 64,
   "metadata": {},
   "outputs": [],
   "source": [
    "# для удобства сделаем отдельный столбик в общей таблице пользователей с информацией по месяцам\n",
    "calls_pivot['user_id'] = calls_pivot.index\n",
    "def givemeaminute(col):\n",
    "    user_id = col['user_id']\n",
    "    if user_id in calls_pivot['user_id']:\n",
    "        result = {a+1: calls_pivot.at[user_id, a+1] for a in range(12)}\n",
    "        return(result)\n",
    "    else:\n",
    "        return {a+1: np.nan for a in range(12)}\n",
    "\n",
    "users['minutes_used'] = users.apply(givemeaminute, axis=1) \n",
    "#print(users.head(10)) "
   ]
  },
  {
   "cell_type": "code",
   "execution_count": 65,
   "metadata": {},
   "outputs": [],
   "source": [
    "#теперь считаем количество сделанных звонков\n",
    "calls_pivot_count = pd.pivot_table(calls, index = 'user_id',columns = 'month',values ='minutes', aggfunc = 'count')\n",
    "#print(calls_pivot_count.head(5))\n",
    "# и так же сохраним значения в таблицу с пользователями\n",
    "calls_pivot_count['user_id'] = calls_pivot_count.index\n",
    "def givemecount(col):\n",
    "    user_id = col['user_id']\n",
    "    if user_id in calls_pivot['user_id']:\n",
    "        result = {a+1: calls_pivot_count.at[user_id, a+1] for a in range(12)}\n",
    "        return(result)\n",
    "    else:\n",
    "        return {a+1: np.nan for a in range(12)}\n",
    "\n",
    "users['calls_count'] = users.apply(givemecount, axis=1)\n"
   ]
  },
  {
   "cell_type": "code",
   "execution_count": 66,
   "metadata": {},
   "outputs": [],
   "source": [
    "#количество отправленных сообщений по месяцам; все так же\n",
    "\n",
    "def needmonthsms(col):\n",
    "    date = col['message_date']\n",
    "    return date.month\n",
    "\n",
    "messages['month'] = messages.apply(needmonthsms, axis=1)\n",
    "#print(messages.head())\n",
    "messages_pivot = pd.pivot_table(messages, index = 'user_id', values = 'id',  columns = 'month', aggfunc = 'count')\n",
    "messages_pivot['user_id'] = messages_pivot.index\n",
    "#print(messages_pivot.head(5))"
   ]
  },
  {
   "cell_type": "code",
   "execution_count": 67,
   "metadata": {},
   "outputs": [],
   "source": [
    "#добавляем в общую таблицу\n",
    "def givemecountsms(col):\n",
    "    user_id = col['user_id']\n",
    "    if user_id in messages_pivot['user_id']:\n",
    "        result = {a+1: messages_pivot.at[user_id, a+1] for a in range(12)}\n",
    "        return(result)\n",
    "    else:\n",
    "        return {a+1: np.nan for a in range(12)}\n",
    "    \n",
    "users['message_count'] = users.apply(givemecountsms, axis=1)\n"
   ]
  },
  {
   "cell_type": "code",
   "execution_count": 68,
   "metadata": {},
   "outputs": [],
   "source": [
    "# объем израсходннного по месяцам трафика\n",
    "def needmonthinternet(col):\n",
    "    date = col['session_date']\n",
    "    return date.month\n",
    "\n",
    "internet['month'] = internet.apply(needmonthinternet, axis=1)\n",
    "#print(internet.head())\n",
    "internet_pivot = pd.pivot_table(internet, index = 'user_id', values = 'mb_used',  columns = 'month', aggfunc = 'sum')\n",
    "internet_pivot['user_id'] = internet_pivot.index\n",
    "#print(internet_pivot.head(5))\n"
   ]
  },
  {
   "cell_type": "code",
   "execution_count": 69,
   "metadata": {},
   "outputs": [],
   "source": [
    "#добавляем в общую таблицу\n",
    "def givemeinternet(col):\n",
    "    user_id = col['user_id']\n",
    "    if user_id in internet_pivot['user_id']:\n",
    "        result = {a+1: internet_pivot.at[user_id, a+1] for a in range(12)}\n",
    "        return(result)\n",
    "    else:\n",
    "        return {a+1: np.nan for a in range(12)}\n",
    "    \n",
    "users['mb_used'] = users.apply(givemeinternet, axis=1)"
   ]
  },
  {
   "cell_type": "code",
   "execution_count": 70,
   "metadata": {},
   "outputs": [
    {
     "name": "stdout",
     "output_type": "stream",
     "text": [
      "   user_id  age churn_date         city first_name  last_name   reg_date  \\\n",
      "0     1000   52        NaT    Краснодар     Рафаил  Верещагин 2018-05-25   \n",
      "1     1001   41        NaT       Москва       Иван       Ежов 2018-11-01   \n",
      "2     1002   59        NaT  Стерлитамак    Евгений  Абрамович 2018-06-17   \n",
      "3     1003   23        NaT       Москва      Белла   Белякова 2018-08-17   \n",
      "4     1004   68        NaT  Новокузнецк    Татьяна   Авдеенко 2018-05-14   \n",
      "\n",
      "  tariff                                       minutes_used  \\\n",
      "0  ultra  {1: nan, 2: nan, 3: nan, 4: nan, 5: 164.0, 6: ...   \n",
      "1  smart  {1: nan, 2: nan, 3: nan, 4: nan, 5: nan, 6: na...   \n",
      "2  smart  {1: nan, 2: nan, 3: nan, 4: nan, 5: nan, 6: 11...   \n",
      "3  ultra  {1: nan, 2: nan, 3: nan, 4: nan, 5: nan, 6: na...   \n",
      "4  ultra  {1: nan, 2: nan, 3: nan, 4: nan, 5: 37.0, 6: 1...   \n",
      "\n",
      "                                         calls_count  \\\n",
      "0  {1: nan, 2: nan, 3: nan, 4: nan, 5: 22.0, 6: 4...   \n",
      "1  {1: nan, 2: nan, 3: nan, 4: nan, 5: nan, 6: na...   \n",
      "2  {1: nan, 2: nan, 3: nan, 4: nan, 5: nan, 6: 15...   \n",
      "3  {1: nan, 2: nan, 3: nan, 4: nan, 5: nan, 6: na...   \n",
      "4  {1: nan, 2: nan, 3: nan, 4: nan, 5: 9.0, 6: 31...   \n",
      "\n",
      "                                       message_count  \\\n",
      "0  {1: nan, 2: nan, 3: nan, 4: nan, 5: 22.0, 6: 6...   \n",
      "1  {1: nan, 2: nan, 3: nan, 4: nan, 5: nan, 6: na...   \n",
      "2  {1: nan, 2: nan, 3: nan, 4: nan, 5: nan, 6: 4....   \n",
      "3  {1: nan, 2: nan, 3: nan, 4: nan, 5: nan, 6: na...   \n",
      "4  {1: nan, 2: nan, 3: nan, 4: nan, 5: 95.0, 6: 1...   \n",
      "\n",
      "                                             mb_used  \n",
      "0  {1: nan, 2: nan, 3: nan, 4: nan, 5: 2252.0, 6:...  \n",
      "1  {1: nan, 2: nan, 3: nan, 4: nan, 5: nan, 6: na...  \n",
      "2  {1: nan, 2: nan, 3: nan, 4: nan, 5: nan, 6: 10...  \n",
      "3  {1: nan, 2: nan, 3: nan, 4: nan, 5: nan, 6: na...  \n",
      "4  {1: nan, 2: nan, 3: nan, 4: nan, 5: 13392.0, 6...  \n"
     ]
    }
   ],
   "source": [
    "print(users.head()) # хорошо"
   ]
  },
  {
   "cell_type": "code",
   "execution_count": 71,
   "metadata": {},
   "outputs": [],
   "source": [
    "# считаем помесячную выручку с каждого пользователя. для этого напишем функции \n",
    "def money_on_minutes(minutes_used, tariff_name): # функция возвращает количество денег потраченных в месяц на лишних минутах\n",
    "    result = minutes_used - tariffs[tariffs['tariff_name']== tariff_name].iat[0,2]\n",
    "    if result <= 0:\n",
    "        #print(0)\n",
    "        return 0\n",
    "    if result > 0:\n",
    "        #print(result*tariffs[tariffs['tariff_name']== tariff_name].at[0,'rub_per_minute'])\n",
    "        return result*tariffs[tariffs['tariff_name']== tariff_name].iat[0,6]\n",
    "    else:\n",
    "        #print(result)\n",
    "        return result "
   ]
  },
  {
   "cell_type": "code",
   "execution_count": 72,
   "metadata": {},
   "outputs": [],
   "source": [
    "def money_on_messages(messages_count, tariff_name):# функция возвращает количество денег потраченных в месяц на лишних смс\n",
    "    result = messages_count - tariffs[tariffs['tariff_name']== tariff_name].iat[0,0]\n",
    "    if result <= 0:\n",
    "        #print(0)\n",
    "        return 0\n",
    "    if result > 0:\n",
    "        #print(result*tariffs[tariffs['tariff_name']== tariff_name].at[0,'rub_per_message'])\n",
    "        return result*tariffs[tariffs['tariff_name']== tariff_name].iat[0,5]\n",
    "    else:\n",
    "        #print(result)\n",
    "        return result    \n",
    "    "
   ]
  },
  {
   "cell_type": "code",
   "execution_count": 73,
   "metadata": {},
   "outputs": [],
   "source": [
    "def money_on_internet(mb_used, tariff_name): #возвращает количество денег потраченных на лишнем интернете\n",
    "    result = mb_used - tariffs[tariffs['tariff_name']== tariff_name].iat[0,1]\n",
    "    if result <= 0:\n",
    "        #print(0)\n",
    "        return 0\n",
    "    if result > 0:\n",
    "        #print((result// 1024+1) *  tariffs[tariffs['tariff_name']== tariff_name].at[0,'rub_per_gb'])\n",
    "        return (result// 1024+1) *  tariffs[tariffs['tariff_name']== tariff_name].iat[0,4]\n",
    "    else:\n",
    "        #print(result)\n",
    "        return result"
   ]
  },
  {
   "cell_type": "code",
   "execution_count": 74,
   "metadata": {},
   "outputs": [],
   "source": [
    "def money_monthly(minutes_used,messages_count,mb_used,tariff_name):\n",
    "    monthly_fee = tariffs[tariffs['tariff_name']== tariff_name].iat[0,3]\n",
    "    internet_extra = money_on_internet(mb_used,tariff_name)\n",
    "    sms_extra = money_on_messages(messages_count, tariff_name)\n",
    "    minutes_extra = money_on_minutes(minutes_used, tariff_name)\n",
    "    result = pd.Series([monthly_fee, internet_extra ,sms_extra , minutes_extra]) #по другому ошибка с нанами выходит.\n",
    "    #print(result)\n",
    "    \n",
    "    return(result.sum())\n",
    "#функция возвращает потречанное человеком количество денег за месяц    "
   ]
  },
  {
   "cell_type": "markdown",
   "metadata": {},
   "source": [
    "<font color='green'>Молодец, что подтягиваешь тарифы напрямую из таблицы, а не используешь константы."
   ]
  },
  {
   "cell_type": "code",
   "execution_count": 75,
   "metadata": {
    "scrolled": true
   },
   "outputs": [
    {
     "name": "stdout",
     "output_type": "stream",
     "text": [
      "31453923.0\n"
     ]
    }
   ],
   "source": [
    "print(money_monthly(np.nan, 31423423, 232132, 'ultra')) #проверям что все норм работает"
   ]
  },
  {
   "cell_type": "code",
   "execution_count": 76,
   "metadata": {},
   "outputs": [],
   "source": [
    "#теперь посчитаем по нашей таблице и добавим туда значения потраченных денег\n",
    "def count_money(col):\n",
    "    minutes_used = col['minutes_used']\n",
    "    message_count = col['message_count']\n",
    "    mb_used = col['mb_used']\n",
    "    tariff = col['tariff']\n",
    "    \n",
    "    return  {a+1: money_monthly(minutes_used.get(a+1), message_count.get(a+1),mb_used.get(a+1),tariff) for a in range(12)}"
   ]
  },
  {
   "cell_type": "code",
   "execution_count": 77,
   "metadata": {},
   "outputs": [
    {
     "name": "stdout",
     "output_type": "stream",
     "text": [
      "     user_id  age churn_date         city first_name  last_name   reg_date  \\\n",
      "0       1000   52        NaT    Краснодар     Рафаил  Верещагин 2018-05-25   \n",
      "1       1001   41        NaT       Москва       Иван       Ежов 2018-11-01   \n",
      "2       1002   59        NaT  Стерлитамак    Евгений  Абрамович 2018-06-17   \n",
      "3       1003   23        NaT       Москва      Белла   Белякова 2018-08-17   \n",
      "4       1004   68        NaT  Новокузнецк    Татьяна   Авдеенко 2018-05-14   \n",
      "..       ...  ...        ...          ...        ...        ...        ...   \n",
      "495     1495   65        NaT      Иркутск  Авксентий      Фокин 2018-08-28   \n",
      "496     1496   36        NaT      Вологда     Трифон     Блохин 2018-01-27   \n",
      "497     1497   32        NaT    Челябинск   Каролина     Агеева 2018-10-09   \n",
      "498     1498   68 2018-10-25  Владикавказ   Всеволод    Акимчин 2018-07-19   \n",
      "499     1499   35        NaT        Пермь     Гектор   Корнилов 2018-09-27   \n",
      "\n",
      "    tariff                                       minutes_used  \\\n",
      "0    ultra  {1: nan, 2: nan, 3: nan, 4: nan, 5: 164.0, 6: ...   \n",
      "1    smart  {1: nan, 2: nan, 3: nan, 4: nan, 5: nan, 6: na...   \n",
      "2    smart  {1: nan, 2: nan, 3: nan, 4: nan, 5: nan, 6: 11...   \n",
      "3    ultra  {1: nan, 2: nan, 3: nan, 4: nan, 5: nan, 6: na...   \n",
      "4    ultra  {1: nan, 2: nan, 3: nan, 4: nan, 5: 37.0, 6: 1...   \n",
      "..     ...                                                ...   \n",
      "495  ultra  {1: nan, 2: nan, 3: nan, 4: nan, 5: nan, 6: na...   \n",
      "496  smart  {1: 49.0, 2: 607.0, 3: 569.0, 4: 538.0, 5: 498...   \n",
      "497  smart  {1: nan, 2: nan, 3: nan, 4: nan, 5: nan, 6: na...   \n",
      "498  smart  {1: nan, 2: nan, 3: nan, 4: nan, 5: nan, 6: na...   \n",
      "499  smart  {1: nan, 2: nan, 3: nan, 4: nan, 5: nan, 6: na...   \n",
      "\n",
      "                                           calls_count  \\\n",
      "0    {1: nan, 2: nan, 3: nan, 4: nan, 5: 22.0, 6: 4...   \n",
      "1    {1: nan, 2: nan, 3: nan, 4: nan, 5: nan, 6: na...   \n",
      "2    {1: nan, 2: nan, 3: nan, 4: nan, 5: nan, 6: 15...   \n",
      "3    {1: nan, 2: nan, 3: nan, 4: nan, 5: nan, 6: na...   \n",
      "4    {1: nan, 2: nan, 3: nan, 4: nan, 5: 9.0, 6: 31...   \n",
      "..                                                 ...   \n",
      "495  {1: nan, 2: nan, 3: nan, 4: nan, 5: nan, 6: na...   \n",
      "496  {1: 7.0, 2: 77.0, 3: 79.0, 4: 67.0, 5: 63.0, 6...   \n",
      "497  {1: nan, 2: nan, 3: nan, 4: nan, 5: nan, 6: na...   \n",
      "498  {1: nan, 2: nan, 3: nan, 4: nan, 5: nan, 6: na...   \n",
      "499  {1: nan, 2: nan, 3: nan, 4: nan, 5: nan, 6: na...   \n",
      "\n",
      "                                         message_count  \\\n",
      "0    {1: nan, 2: nan, 3: nan, 4: nan, 5: 22.0, 6: 6...   \n",
      "1    {1: nan, 2: nan, 3: nan, 4: nan, 5: nan, 6: na...   \n",
      "2    {1: nan, 2: nan, 3: nan, 4: nan, 5: nan, 6: 4....   \n",
      "3    {1: nan, 2: nan, 3: nan, 4: nan, 5: nan, 6: na...   \n",
      "4    {1: nan, 2: nan, 3: nan, 4: nan, 5: 95.0, 6: 1...   \n",
      "..                                                 ...   \n",
      "495  {1: nan, 2: nan, 3: nan, 4: nan, 5: nan, 6: na...   \n",
      "496  {1: 9.0, 2: 45.0, 3: 46.0, 4: 49.0, 5: 40.0, 6...   \n",
      "497  {1: nan, 2: nan, 3: nan, 4: nan, 5: nan, 6: na...   \n",
      "498  {1: nan, 2: nan, 3: nan, 4: nan, 5: nan, 6: na...   \n",
      "499  {1: nan, 2: nan, 3: nan, 4: nan, 5: nan, 6: na...   \n",
      "\n",
      "                                               mb_used  \\\n",
      "0    {1: nan, 2: nan, 3: nan, 4: nan, 5: 2252.0, 6:...   \n",
      "1    {1: nan, 2: nan, 3: nan, 4: nan, 5: nan, 6: na...   \n",
      "2    {1: nan, 2: nan, 3: nan, 4: nan, 5: nan, 6: 10...   \n",
      "3    {1: nan, 2: nan, 3: nan, 4: nan, 5: nan, 6: na...   \n",
      "4    {1: nan, 2: nan, 3: nan, 4: nan, 5: 13392.0, 6...   \n",
      "..                                                 ...   \n",
      "495  {1: nan, 2: nan, 3: nan, 4: nan, 5: nan, 6: na...   \n",
      "496  {1: 3756.0, 2: 28455.0, 3: 24924.0, 4: 21044.0...   \n",
      "497  {1: nan, 2: nan, 3: nan, 4: nan, 5: nan, 6: na...   \n",
      "498  {1: nan, 2: nan, 3: nan, 4: nan, 5: nan, 6: na...   \n",
      "499  {1: nan, 2: nan, 3: nan, 4: nan, 5: nan, 6: na...   \n",
      "\n",
      "                                           money_spend  \n",
      "0    {1: 1950.0, 2: 1950.0, 3: 1950.0, 4: 1950.0, 5...  \n",
      "1    {1: 550.0, 2: 550.0, 3: 550.0, 4: 550.0, 5: 55...  \n",
      "2    {1: 550.0, 2: 550.0, 3: 550.0, 4: 550.0, 5: 55...  \n",
      "3    {1: 1950.0, 2: 1950.0, 3: 1950.0, 4: 1950.0, 5...  \n",
      "4    {1: 1950.0, 2: 1950.0, 3: 1950.0, 4: 1950.0, 5...  \n",
      "..                                                 ...  \n",
      "495  {1: 1950.0, 2: 1950.0, 3: 1950.0, 4: 1950.0, 5...  \n",
      "496  {1: 550, 2: 3471.0, 3: 2757.0, 4: 1864.0, 5: 2...  \n",
      "497  {1: 550.0, 2: 550.0, 3: 550.0, 4: 550.0, 5: 55...  \n",
      "498  {1: 550.0, 2: 550.0, 3: 550.0, 4: 550.0, 5: 55...  \n",
      "499  {1: 550.0, 2: 550.0, 3: 550.0, 4: 550.0, 5: 55...  \n",
      "\n",
      "[500 rows x 13 columns]\n"
     ]
    }
   ],
   "source": [
    "users['money_spend'] = users.apply(count_money, axis=1)\n",
    "# немножко долго делает но норм\n",
    "print(users) #победа"
   ]
  },
  {
   "cell_type": "markdown",
   "metadata": {},
   "source": [
    "##Вывод. мы совместили данные в общей таблице вычеслив затраты каждого пользователя по месяцам, предварительно азписав в таблицу количество исопльзованных минут, смс, интернет трафика."
   ]
  },
  {
   "cell_type": "markdown",
   "metadata": {},
   "source": [
    "<font color='green'>Выбранный способ решения впечатляет."
   ]
  },
  {
   "cell_type": "markdown",
   "metadata": {},
   "source": [
    "# Анализ данных"
   ]
  },
  {
   "cell_type": "code",
   "execution_count": 78,
   "metadata": {},
   "outputs": [],
   "source": [
    "#Опишите поведение клиентов оператора, исходя из выборки. \n",
    "#Сколько минут разговора, сколько сообщений и какой объём интернет-трафика требуется пользователям каждого тарифа в месяц?\n",
    "def maketable(row, name):\n",
    "    money_spend = row[name]\n",
    "    result = []\n",
    "    for i in range(12):\n",
    "        result.append(money_spend.get(i))\n",
    "    return(result)\n",
    "        \n",
    "    \n"
   ]
  },
  {
   "cell_type": "code",
   "execution_count": 79,
   "metadata": {},
   "outputs": [],
   "source": [
    "internetdata = users.apply(maketable, name = 'mb_used' , axis=1,result_type='expand')"
   ]
  },
  {
   "cell_type": "code",
   "execution_count": 80,
   "metadata": {},
   "outputs": [],
   "source": [
    "internetdata = internetdata.rename(columns ={i: i+1 for i in range(12)} ) # переименуем что бы месяца правильно шли\n",
    "inetrnetdata2 = users.join(internetdata)"
   ]
  },
  {
   "cell_type": "code",
   "execution_count": 81,
   "metadata": {},
   "outputs": [],
   "source": [
    "inetrnetdata_final = inetrnetdata2.iloc[:,[7,13,14,15,16,17,18,19,20,21,22,23,24]] # для наглядности оставим только нужные столбцы"
   ]
  },
  {
   "cell_type": "code",
   "execution_count": 82,
   "metadata": {},
   "outputs": [
    {
     "name": "stdout",
     "output_type": "stream",
     "text": [
      "    tariff   1       2        3        4        5        6        7        8  \\\n",
      "0    ultra NaN     NaN      NaN      NaN      NaN   2252.0  23213.0  13988.0   \n",
      "1    smart NaN     NaN      NaN      NaN      NaN      NaN      NaN      NaN   \n",
      "2    smart NaN     NaN      NaN      NaN      NaN      NaN  10844.0  17557.0   \n",
      "3    ultra NaN     NaN      NaN      NaN      NaN      NaN      NaN      NaN   \n",
      "4    ultra NaN     NaN      NaN      NaN      NaN  13392.0  17586.0  22211.0   \n",
      "..     ...  ..     ...      ...      ...      ...      ...      ...      ...   \n",
      "495  ultra NaN     NaN      NaN      NaN      NaN      NaN      NaN      NaN   \n",
      "496  smart NaN  3756.0  28455.0  24924.0  21044.0  23676.0  20107.0  24338.0   \n",
      "497  smart NaN     NaN      NaN      NaN      NaN      NaN      NaN      NaN   \n",
      "498  smart NaN     NaN      NaN      NaN      NaN      NaN      NaN   7469.0   \n",
      "499  smart NaN     NaN      NaN      NaN      NaN      NaN      NaN      NaN   \n",
      "\n",
      "           9       10       11       12       sum  \n",
      "0    14043.0  14556.0  14690.0  14745.0   97487.0  \n",
      "1        NaN      NaN      NaN  18405.0   18405.0  \n",
      "2    20298.0  16669.0  13869.0  18566.0   97803.0  \n",
      "3     8557.0  12457.0  14754.0  11348.0   47116.0  \n",
      "4    28558.0  15093.0  18457.0  15598.0  130895.0  \n",
      "..       ...      ...      ...      ...       ...  \n",
      "495   2612.0  33040.0  29336.0  38903.0  103891.0  \n",
      "496  23502.0  26902.0  28143.0  25030.0  249877.0  \n",
      "497      NaN      NaN  11485.0  14138.0   25623.0  \n",
      "498  24206.0  22110.0  20555.0      NaN   74340.0  \n",
      "499      NaN   1844.0  17766.0  17945.0   37555.0  \n",
      "\n",
      "[500 rows x 14 columns]\n"
     ]
    },
    {
     "name": "stderr",
     "output_type": "stream",
     "text": [
      "/opt/conda/lib/python3.7/site-packages/ipykernel_launcher.py:1: SettingWithCopyWarning: \n",
      "A value is trying to be set on a copy of a slice from a DataFrame.\n",
      "Try using .loc[row_indexer,col_indexer] = value instead\n",
      "\n",
      "See the caveats in the documentation: http://pandas.pydata.org/pandas-docs/stable/user_guide/indexing.html#returning-a-view-versus-a-copy\n",
      "  \"\"\"Entry point for launching an IPython kernel.\n"
     ]
    }
   ],
   "source": [
    "inetrnetdata_final['sum']= inetrnetdata_final.sum(axis=1)\n",
    "print(inetrnetdata_final)"
   ]
  },
  {
   "cell_type": "code",
   "execution_count": 83,
   "metadata": {},
   "outputs": [
    {
     "name": "stdout",
     "output_type": "stream",
     "text": [
      "  tariff   1   2   3   4   5        6        7        8        9       10  \\\n",
      "0  ultra NaN NaN NaN NaN NaN   2252.0  23213.0  13988.0  14043.0  14556.0   \n",
      "1  smart NaN NaN NaN NaN NaN      NaN      NaN      NaN      NaN      NaN   \n",
      "2  smart NaN NaN NaN NaN NaN      NaN  10844.0  17557.0  20298.0  16669.0   \n",
      "3  ultra NaN NaN NaN NaN NaN      NaN      NaN      NaN   8557.0  12457.0   \n",
      "4  ultra NaN NaN NaN NaN NaN  13392.0  17586.0  22211.0  28558.0  15093.0   \n",
      "\n",
      "        11       12       sum  month_used          mean  \n",
      "0  14690.0  14745.0   97487.0           7  13926.714286  \n",
      "1      NaN  18405.0   18405.0           1  18405.000000  \n",
      "2  13869.0  18566.0   97803.0           6  16300.500000  \n",
      "3  14754.0  11348.0   47116.0           4  11779.000000  \n",
      "4  18457.0  15598.0  130895.0           7  18699.285714  \n"
     ]
    },
    {
     "name": "stderr",
     "output_type": "stream",
     "text": [
      "/opt/conda/lib/python3.7/site-packages/ipykernel_launcher.py:2: SettingWithCopyWarning: \n",
      "A value is trying to be set on a copy of a slice from a DataFrame.\n",
      "Try using .loc[row_indexer,col_indexer] = value instead\n",
      "\n",
      "See the caveats in the documentation: http://pandas.pydata.org/pandas-docs/stable/user_guide/indexing.html#returning-a-view-versus-a-copy\n",
      "  \n",
      "/opt/conda/lib/python3.7/site-packages/ipykernel_launcher.py:3: SettingWithCopyWarning: \n",
      "A value is trying to be set on a copy of a slice from a DataFrame.\n",
      "Try using .loc[row_indexer,col_indexer] = value instead\n",
      "\n",
      "See the caveats in the documentation: http://pandas.pydata.org/pandas-docs/stable/user_guide/indexing.html#returning-a-view-versus-a-copy\n",
      "  This is separate from the ipykernel package so we can avoid doing imports until\n"
     ]
    }
   ],
   "source": [
    "#ища среднее количество необходимых мегабайт нужно учитывать только те месяцы когда клиенты пользовались интернетом.\n",
    "inetrnetdata_final['month_used'] = (inetrnetdata_final.count(axis =1) - 2)\n",
    "inetrnetdata_final['mean'] = inetrnetdata_final['sum'] /inetrnetdata_final['month_used']\n",
    "print(inetrnetdata_final.head())"
   ]
  },
  {
   "cell_type": "code",
   "execution_count": 84,
   "metadata": {},
   "outputs": [
    {
     "name": "stdout",
     "output_type": "stream",
     "text": [
      "16243.820537136251\n",
      "15247.336569587962\n",
      "18542.851405122656\n"
     ]
    }
   ],
   "source": [
    "# находим средние значения\n",
    "print(inetrnetdata_final['mean'].mean()) # общее среднее \n",
    "print(inetrnetdata_final[inetrnetdata_final['tariff']=='smart']['mean'].mean()) # для тарифа смарт\n",
    "print(inetrnetdata_final[inetrnetdata_final['tariff']=='ultra']['mean'].mean()) # для тарифа ультра"
   ]
  },
  {
   "cell_type": "code",
   "execution_count": 85,
   "metadata": {},
   "outputs": [
    {
     "name": "stdout",
     "output_type": "stream",
     "text": [
      "33351182.89665664\n",
      "5775.048302538831\n"
     ]
    }
   ],
   "source": [
    "#посомтрим дисперсию общую\n",
    "internet_var = np.var(inetrnetdata_final['mean'], ddof = 1)\n",
    "print(internet_var) # дисперсия\n",
    "print(np.sqrt(internet_var)) # стандартное отклонение"
   ]
  },
  {
   "cell_type": "code",
   "execution_count": 86,
   "metadata": {},
   "outputs": [
    {
     "name": "stdout",
     "output_type": "stream",
     "text": [
      "16150126.378697265 дисперсия тарифа смарт\n",
      "4018.7219832550327 стандартное отклонение для тарифа смарт\n",
      "\n",
      "65807173.796565846 дисперсия тарифа ультра\n",
      "8112.162091364166 стандартное отклонение для тарифа ультра\n"
     ]
    }
   ],
   "source": [
    "# для разных тарифов\n",
    "smart_var = np.var(inetrnetdata_final[inetrnetdata_final['tariff']=='smart']['mean'],ddof = 1)\n",
    "print(smart_var, 'дисперсия тарифа смарт')\n",
    "print(np.sqrt(smart_var), 'стандартное отклонение для тарифа смарт')\n",
    "print()\n",
    "ultra_var = np.var(inetrnetdata_final[inetrnetdata_final['tariff']=='ultra']['mean'],ddof = 1)\n",
    "print(ultra_var, 'дисперсия тарифа ультра')\n",
    "print(np.sqrt(ultra_var), 'стандартное отклонение для тарифа ультра')"
   ]
  },
  {
   "cell_type": "code",
   "execution_count": 87,
   "metadata": {},
   "outputs": [
    {
     "data": {
      "text/plain": [
       "<matplotlib.axes._subplots.AxesSubplot at 0x7f6d54e0da20>"
      ]
     },
     "execution_count": 87,
     "metadata": {},
     "output_type": "execute_result"
    },
    {
     "data": {
      "image/png": "[encoded data removed]",
      "text/plain": [
       "<Figure size 432x288 with 1 Axes>"
      ]
     },
     "metadata": {},
     "output_type": "display_data"
    }
   ],
   "source": [
    "inetrnetdata_final['mean'].plot.kde() #плотность респределения"
   ]
  },
  {
   "cell_type": "code",
   "execution_count": 88,
   "metadata": {},
   "outputs": [
    {
     "data": {
      "text/plain": [
       "<matplotlib.axes._subplots.AxesSubplot at 0x7f6d55ed5898>"
      ]
     },
     "execution_count": 88,
     "metadata": {},
     "output_type": "execute_result"
    },
    {
     "data": {
      "image/png": "[encoded data removed]",
      "text/plain": [
       "<Figure size 432x288 with 1 Axes>"
      ]
     },
     "metadata": {},
     "output_type": "display_data"
    }
   ],
   "source": [
    "inetrnetdata_final['mean'].plot.hist(alpha=0.6) #гистограмма общая"
   ]
  },
  {
   "cell_type": "code",
   "execution_count": 89,
   "metadata": {},
   "outputs": [
    {
     "data": {
      "text/plain": [
       "<matplotlib.axes._subplots.AxesSubplot at 0x7f6d55e51048>"
      ]
     },
     "execution_count": 89,
     "metadata": {},
     "output_type": "execute_result"
    },
    {
     "data": {
      "image/png": "[encoded data removed]",
      "text/plain": [
       "<Figure size 432x288 with 1 Axes>"
      ]
     },
     "metadata": {},
     "output_type": "display_data"
    }
   ],
   "source": [
    "#гистаграмма для тарифа ультра\n",
    "inetrnetdata_final[inetrnetdata_final['tariff']=='ultra']['mean'].plot.hist(alpha=0.6)"
   ]
  },
  {
   "cell_type": "code",
   "execution_count": 90,
   "metadata": {},
   "outputs": [
    {
     "data": {
      "text/plain": [
       "<matplotlib.axes._subplots.AxesSubplot at 0x7f6d55dcc400>"
      ]
     },
     "execution_count": 90,
     "metadata": {},
     "output_type": "execute_result"
    },
    {
     "data": {
      "image/png": "[encoded data removed]",
      "text/plain": [
       "<Figure size 432x288 with 1 Axes>"
      ]
     },
     "metadata": {},
     "output_type": "display_data"
    }
   ],
   "source": [
    "#гистаграмма для тарифа смарт\n",
    "inetrnetdata_final[inetrnetdata_final['tariff']=='smart']['mean'].plot.hist(alpha=0.6)"
   ]
  },
  {
   "cell_type": "markdown",
   "metadata": {},
   "source": [
    "#### Таким образом количество затраченных мб для пользователей тарифа смарт нормально распределены вокруг значения в 16.5 тысяч мегабайт в месяц. Для пользвоателей тарифа среднее значение чуть выше, но главное они распределены менее равномерно - чаще тратят либо больше мегобайт либо значительно меньше. Вероятно часть пользователей дорогого тарифа действительно нуждается в большем обьеме трафика, а часть покупают его просто потому что могут."
   ]
  },
  {
   "cell_type": "code",
   "execution_count": 91,
   "metadata": {},
   "outputs": [
    {
     "name": "stdout",
     "output_type": "stream",
     "text": [
      "  tariff   1   2   3   4   5      6      7      8      9     10     11     12  \\\n",
      "0  ultra NaN NaN NaN NaN NaN  164.0  187.0  346.0  419.0  479.0  363.0  344.0   \n",
      "1  smart NaN NaN NaN NaN NaN    NaN    NaN    NaN    NaN    NaN    NaN  444.0   \n",
      "2  smart NaN NaN NaN NaN NaN    NaN  118.0  219.0  296.0  218.0  221.0  250.0   \n",
      "3  ultra NaN NaN NaN NaN NaN    NaN    NaN    NaN  392.0  990.0  867.0  844.0   \n",
      "4  ultra NaN NaN NaN NaN NaN   37.0  177.0  137.0  138.0  125.0  154.0  122.0   \n",
      "\n",
      "      sum  month_used        mean  \n",
      "0  2302.0           7  328.857143  \n",
      "1   444.0           1  444.000000  \n",
      "2  1322.0           6  220.333333  \n",
      "3  3093.0           4  773.250000  \n",
      "4   890.0           7  127.142857  \n"
     ]
    },
    {
     "name": "stderr",
     "output_type": "stream",
     "text": [
      "/opt/conda/lib/python3.7/site-packages/ipykernel_launcher.py:9: SettingWithCopyWarning: \n",
      "A value is trying to be set on a copy of a slice from a DataFrame.\n",
      "Try using .loc[row_indexer,col_indexer] = value instead\n",
      "\n",
      "See the caveats in the documentation: http://pandas.pydata.org/pandas-docs/stable/user_guide/indexing.html#returning-a-view-versus-a-copy\n",
      "  if __name__ == '__main__':\n",
      "/opt/conda/lib/python3.7/site-packages/ipykernel_launcher.py:11: SettingWithCopyWarning: \n",
      "A value is trying to be set on a copy of a slice from a DataFrame.\n",
      "Try using .loc[row_indexer,col_indexer] = value instead\n",
      "\n",
      "See the caveats in the documentation: http://pandas.pydata.org/pandas-docs/stable/user_guide/indexing.html#returning-a-view-versus-a-copy\n",
      "  # This is added back by InteractiveShellApp.init_path()\n",
      "/opt/conda/lib/python3.7/site-packages/ipykernel_launcher.py:12: SettingWithCopyWarning: \n",
      "A value is trying to be set on a copy of a slice from a DataFrame.\n",
      "Try using .loc[row_indexer,col_indexer] = value instead\n",
      "\n",
      "See the caveats in the documentation: http://pandas.pydata.org/pandas-docs/stable/user_guide/indexing.html#returning-a-view-versus-a-copy\n",
      "  if sys.path[0] == '':\n"
     ]
    }
   ],
   "source": [
    "# теперь эту же процедуру надо выполнить для количества минут\n",
    "minut_data = users.apply(maketable, name = 'minutes_used' , axis=1,result_type='expand')\n",
    "\n",
    "minut_data = minut_data.rename(columns ={i: i+1 for i in range(12)} ) # переименуем что бы месяца правильно шли\n",
    "minut_data2 = users.join(minut_data)\n",
    "minut_data_final = minut_data2.iloc[:,[7,13,14,15,16,17,18,19,20,21,22,23,24]] # для наглядности оставим только нужные столбцы\n",
    "#print(minut_data_final)\n",
    "\n",
    "minut_data_final['sum']= minut_data_final.sum(axis=1)\n",
    "\n",
    "minut_data_final['month_used'] = (minut_data_final.count(axis =1) - 2)\n",
    "minut_data_final['mean'] = minut_data_final['sum'] /minut_data_final['month_used']\n",
    "print(minut_data_final.head())"
   ]
  },
  {
   "cell_type": "code",
   "execution_count": 92,
   "metadata": {},
   "outputs": [
    {
     "name": "stdout",
     "output_type": "stream",
     "text": [
      "441.90541188554295 общее среднее\n",
      "405.97382924184166 среднее по смарт\n",
      "526.9787178507767 среднне по ультра\n",
      "\n",
      "40042.82191848618  общая дисперсия\n",
      "200.1070261597183  общее стандартное отклонение\n",
      "\n",
      "22056.173690296815 дисперсия тарифа смарт\n",
      "148.5132104908409 стандартное отклонение для тарифа смарт\n",
      "\n",
      "72737.14798623852 дисперсия тарифа ультра\n",
      "269.698253583961 стандартное отклонение для тарифа ультра\n"
     ]
    }
   ],
   "source": [
    "# находим средние значения\n",
    "print(minut_data_final['mean'].mean(), 'общее среднее') # общее среднее \n",
    "print(minut_data_final[minut_data_final['tariff']=='smart']['mean'].mean(), 'среднее по смарт') # для тарифа смарт\n",
    "print(minut_data_final[minut_data_final['tariff']=='ultra']['mean'].mean(), 'среднне по ультра') # для тарифа ультра\n",
    "print()\n",
    "#посомтрим дисперсию общую\n",
    "minuts_var = np.var(minut_data_final['mean'], ddof = 1)\n",
    "print(minuts_var, ' общая дисперсия') # дисперсия\n",
    "print(np.sqrt(minuts_var), ' общее стандартное отклонение') # стандартное отклонение\n",
    "print()\n",
    "# для разных тарифов\n",
    "smart_var = np.var(minut_data_final[minut_data_final['tariff']=='smart']['mean'],ddof = 1)\n",
    "print(smart_var, 'дисперсия тарифа смарт')\n",
    "print(np.sqrt(smart_var), 'стандартное отклонение для тарифа смарт')\n",
    "print()\n",
    "ultra_var = np.var(minut_data_final[minut_data_final['tariff']=='ultra']['mean'],ddof = 1)\n",
    "print(ultra_var, 'дисперсия тарифа ультра')\n",
    "print(np.sqrt(ultra_var), 'стандартное отклонение для тарифа ультра')"
   ]
  },
  {
   "cell_type": "code",
   "execution_count": 93,
   "metadata": {},
   "outputs": [
    {
     "data": {
      "text/plain": [
       "<matplotlib.axes._subplots.AxesSubplot at 0x7f6d55d37390>"
      ]
     },
     "execution_count": 93,
     "metadata": {},
     "output_type": "execute_result"
    },
    {
     "data": {
      "image/png": "[encoded data removed]",
      "text/plain": [
       "<Figure size 432x288 with 1 Axes>"
      ]
     },
     "metadata": {},
     "output_type": "display_data"
    }
   ],
   "source": [
    "#гистаграмма для тарифа ультра\n",
    "minut_data_final[minut_data_final['tariff']=='ultra']['mean'].plot.hist(alpha=0.6)"
   ]
  },
  {
   "cell_type": "code",
   "execution_count": 94,
   "metadata": {},
   "outputs": [
    {
     "data": {
      "text/plain": [
       "<matplotlib.axes._subplots.AxesSubplot at 0x7f6d55ca74a8>"
      ]
     },
     "execution_count": 94,
     "metadata": {},
     "output_type": "execute_result"
    },
    {
     "data": {
      "image/png": "[encoded data removed]",
      "text/plain": [
       "<Figure size 432x288 with 1 Axes>"
      ]
     },
     "metadata": {},
     "output_type": "display_data"
    }
   ],
   "source": [
    "#для тарифа смарт\n",
    "minut_data_final[minut_data_final['tariff']=='smart']['mean'].plot.hist(alpha=0.6)"
   ]
  },
  {
   "cell_type": "markdown",
   "metadata": {},
   "source": [
    "#### гистограмма затраченных минут пользователей тарифа ультра распределена вокруг 500 минут в месяц и смещена влево. В то же время пользователи тарифа смарт распредлены вокруг 450 минут с небольшим смещение вправо."
   ]
  },
  {
   "cell_type": "code",
   "execution_count": 95,
   "metadata": {},
   "outputs": [
    {
     "name": "stdout",
     "output_type": "stream",
     "text": [
      "  tariff   1   2   3   4   5     6      7      8      9     10     11     12  \\\n",
      "0  ultra NaN NaN NaN NaN NaN  22.0   60.0   75.0   81.0   57.0   73.0   58.0   \n",
      "1  smart NaN NaN NaN NaN NaN   NaN    NaN    NaN    NaN    NaN    NaN    NaN   \n",
      "2  smart NaN NaN NaN NaN NaN   NaN    4.0   11.0   13.0    4.0   10.0   16.0   \n",
      "3  ultra NaN NaN NaN NaN NaN   NaN    NaN    NaN   37.0   91.0   83.0   94.0   \n",
      "4  ultra NaN NaN NaN NaN NaN  95.0  134.0  181.0  151.0  146.0  165.0  158.0   \n",
      "\n",
      "      sum  month_used        mean  \n",
      "0   426.0           7   60.857143  \n",
      "1     0.0           0         NaN  \n",
      "2    58.0           6    9.666667  \n",
      "3   305.0           4   76.250000  \n",
      "4  1030.0           7  147.142857  \n"
     ]
    },
    {
     "name": "stderr",
     "output_type": "stream",
     "text": [
      "/opt/conda/lib/python3.7/site-packages/ipykernel_launcher.py:8: SettingWithCopyWarning: \n",
      "A value is trying to be set on a copy of a slice from a DataFrame.\n",
      "Try using .loc[row_indexer,col_indexer] = value instead\n",
      "\n",
      "See the caveats in the documentation: http://pandas.pydata.org/pandas-docs/stable/user_guide/indexing.html#returning-a-view-versus-a-copy\n",
      "  \n",
      "/opt/conda/lib/python3.7/site-packages/ipykernel_launcher.py:10: SettingWithCopyWarning: \n",
      "A value is trying to be set on a copy of a slice from a DataFrame.\n",
      "Try using .loc[row_indexer,col_indexer] = value instead\n",
      "\n",
      "See the caveats in the documentation: http://pandas.pydata.org/pandas-docs/stable/user_guide/indexing.html#returning-a-view-versus-a-copy\n",
      "  # Remove the CWD from sys.path while we load stuff.\n",
      "/opt/conda/lib/python3.7/site-packages/ipykernel_launcher.py:11: SettingWithCopyWarning: \n",
      "A value is trying to be set on a copy of a slice from a DataFrame.\n",
      "Try using .loc[row_indexer,col_indexer] = value instead\n",
      "\n",
      "See the caveats in the documentation: http://pandas.pydata.org/pandas-docs/stable/user_guide/indexing.html#returning-a-view-versus-a-copy\n",
      "  # This is added back by InteractiveShellApp.init_path()\n"
     ]
    }
   ],
   "source": [
    "# анализируем смс\n",
    "sms_data = users.apply(maketable, name = 'message_count' , axis=1,result_type='expand')\n",
    "\n",
    "sms_data = sms_data.rename(columns ={i: i+1 for i in range(12)} ) # переименуем что бы месяца правильно шли\n",
    "sms_data2 = users.join(sms_data)\n",
    "sms_data_final = sms_data2.iloc[:,[7,13,14,15,16,17,18,19,20,21,22,23,24]] # для наглядности оставим только нужные столбцы\n",
    "\n",
    "sms_data_final['sum']= sms_data_final.sum(axis=1)\n",
    "\n",
    "sms_data_final['month_used'] = (sms_data_final.count(axis =1) - 2)\n",
    "sms_data_final['mean'] = sms_data_final['sum'] /sms_data_final['month_used']\n",
    "print(sms_data_final.head())"
   ]
  },
  {
   "cell_type": "code",
   "execution_count": 96,
   "metadata": {},
   "outputs": [
    {
     "name": "stdout",
     "output_type": "stream",
     "text": [
      "43.66812263685682 общее среднее\n",
      "36.224715176520235 среднее по смарт\n",
      "61.14120625137574 среднне по ультра\n",
      "\n",
      "1082.253164944007  общая дисперсия\n",
      "32.89761640216517  общее стандартное отклонение\n",
      "\n",
      "585.2447529880312 дисперсия тарифа смарт\n",
      "24.191832361109633 стандартное отклонение для тарифа смарт\n",
      "\n",
      "1824.844266626847 дисперсия тарифа ультра\n",
      "42.71819596643621 стандартное отклонение для тарифа ультра\n"
     ]
    }
   ],
   "source": [
    "# находим средние значения\n",
    "print(sms_data_final['mean'].mean(), 'общее среднее') # общее среднее \n",
    "print(sms_data_final[sms_data_final['tariff']=='smart']['mean'].mean(), 'среднее по смарт') # для тарифа смарт\n",
    "print(sms_data_final[sms_data_final['tariff']=='ultra']['mean'].mean(), 'среднне по ультра') # для тарифа ультра\n",
    "print()\n",
    "#посомтрим дисперсию общую\n",
    "sms_var = np.var(sms_data_final['mean'], ddof = 1)\n",
    "print(sms_var, ' общая дисперсия') # дисперсия\n",
    "print(np.sqrt(sms_var), ' общее стандартное отклонение') # стандартное отклонение\n",
    "print()\n",
    "# для разных тарифов\n",
    "smart_var = np.var(sms_data_final[sms_data_final['tariff']=='smart']['mean'],ddof = 1)\n",
    "print(smart_var, 'дисперсия тарифа смарт')\n",
    "print(np.sqrt(smart_var), 'стандартное отклонение для тарифа смарт')\n",
    "print()\n",
    "ultra_var = np.var(sms_data_final[sms_data_final['tariff']=='ultra']['mean'],ddof = 1)\n",
    "print(ultra_var, 'дисперсия тарифа ультра')\n",
    "print(np.sqrt(ultra_var), 'стандартное отклонение для тарифа ультра')"
   ]
  },
  {
   "cell_type": "code",
   "execution_count": 97,
   "metadata": {},
   "outputs": [
    {
     "data": {
      "text/plain": [
       "<matplotlib.axes._subplots.AxesSubplot at 0x7f6d55c37240>"
      ]
     },
     "execution_count": 97,
     "metadata": {},
     "output_type": "execute_result"
    },
    {
     "data": {
      "image/png": "[encoded data removed]",
      "text/plain": [
       "<Figure size 432x288 with 1 Axes>"
      ]
     },
     "metadata": {},
     "output_type": "display_data"
    }
   ],
   "source": [
    "sms_data_final[sms_data_final['tariff']=='ultra']['mean'].plot.hist(alpha=0.6) #гистаграмма для ультра"
   ]
  },
  {
   "cell_type": "code",
   "execution_count": 98,
   "metadata": {},
   "outputs": [
    {
     "data": {
      "text/plain": [
       "<matplotlib.axes._subplots.AxesSubplot at 0x7f6d55bc2588>"
      ]
     },
     "execution_count": 98,
     "metadata": {},
     "output_type": "execute_result"
    },
    {
     "data": {
      "image/png": "[encoded data removed]",
      "text/plain": [
       "<Figure size 432x288 with 1 Axes>"
      ]
     },
     "metadata": {},
     "output_type": "display_data"
    }
   ],
   "source": [
    "sms_data_final[sms_data_final['tariff']=='smart']['mean'].plot.hist(alpha=0.6) #гистаграмма для смарт"
   ]
  },
  {
   "cell_type": "code",
   "execution_count": 99,
   "metadata": {},
   "outputs": [
    {
     "name": "stderr",
     "output_type": "stream",
     "text": [
      "/opt/conda/lib/python3.7/site-packages/ipykernel_launcher.py:9: SettingWithCopyWarning: \n",
      "A value is trying to be set on a copy of a slice from a DataFrame.\n",
      "Try using .loc[row_indexer,col_indexer] = value instead\n",
      "\n",
      "See the caveats in the documentation: http://pandas.pydata.org/pandas-docs/stable/user_guide/indexing.html#returning-a-view-versus-a-copy\n",
      "  if __name__ == '__main__':\n",
      "/opt/conda/lib/python3.7/site-packages/ipykernel_launcher.py:11: SettingWithCopyWarning: \n",
      "A value is trying to be set on a copy of a slice from a DataFrame.\n",
      "Try using .loc[row_indexer,col_indexer] = value instead\n",
      "\n",
      "See the caveats in the documentation: http://pandas.pydata.org/pandas-docs/stable/user_guide/indexing.html#returning-a-view-versus-a-copy\n",
      "  # This is added back by InteractiveShellApp.init_path()\n",
      "/opt/conda/lib/python3.7/site-packages/ipykernel_launcher.py:12: SettingWithCopyWarning: \n",
      "A value is trying to be set on a copy of a slice from a DataFrame.\n",
      "Try using .loc[row_indexer,col_indexer] = value instead\n",
      "\n",
      "See the caveats in the documentation: http://pandas.pydata.org/pandas-docs/stable/user_guide/indexing.html#returning-a-view-versus-a-copy\n",
      "  if sys.path[0] == '':\n"
     ]
    }
   ],
   "source": [
    "# посчитаем деньги\n",
    "money_data = users.apply(maketable, name = 'money_spend' , axis=1,result_type='expand')\n",
    "\n",
    "money_data = money_data.rename(columns ={i: i+1 for i in range(12)} ) # переименуем что бы месяца правильно шли\n",
    "money_data2 = users.join(money_data)\n",
    "money_data_final = money_data2.iloc[:,[7,13,14,15,16,17,18,19,20,21,22,23,24]] # для наглядности оставим только нужные столбцы\n",
    "#print(minut_data_final)\n",
    "\n",
    "money_data_final['sum']= money_data_final.sum(axis=1)\n",
    "\n",
    "money_data_final['month_used'] = (money_data_final.count(axis =1) - 2)\n",
    "money_data_final['mean'] = money_data_final['sum'] /money_data_final['month_used']\n",
    "#print(money_data_final.head())"
   ]
  },
  {
   "cell_type": "code",
   "execution_count": 100,
   "metadata": {},
   "outputs": [
    {
     "name": "stdout",
     "output_type": "stream",
     "text": [
      "1225.2974545454547 общее среднее\n",
      "893.9616679616678 среднее по смарт\n",
      "2005.8267236119582 среднне по ультра\n",
      "\n",
      "353916.018831183  общая дисперсия\n",
      "594.9084121368456  общее стандартное отклонение\n",
      "\n",
      "585.2447529880312 дисперсия тарифа смарт\n",
      "24.191832361109633 стандартное отклонение для тарифа смарт\n",
      "\n",
      "21377.61909116393 дисперсия тарифа ультра\n",
      "146.21087200055928 стандартное отклонение для тарифа ультра\n"
     ]
    }
   ],
   "source": [
    "# находим средние значения\n",
    "print(money_data_final['mean'].mean(), 'общее среднее') # общее среднее \n",
    "print(money_data_final[money_data_final['tariff']=='smart']['mean'].mean(), 'среднее по смарт') # для тарифа смарт\n",
    "print(money_data_final[money_data_final['tariff']=='ultra']['mean'].mean(), 'среднне по ультра') # для тарифа ультра\n",
    "print()\n",
    "#посомтрим дисперсию общую\n",
    "money_var = np.var(money_data_final['mean'], ddof = 1)\n",
    "print(money_var, ' общая дисперсия') # дисперсия\n",
    "print(np.sqrt(money_var), ' общее стандартное отклонение') # стандартное отклонение\n",
    "print()\n",
    "# для разных тарифов\n",
    "money_var = np.var(money_data_final[money_data_final['tariff']=='smart']['mean'],ddof = 1)\n",
    "print(smart_var, 'дисперсия тарифа смарт')\n",
    "print(np.sqrt(smart_var), 'стандартное отклонение для тарифа смарт')\n",
    "print()\n",
    "ultra_var = np.var(money_data_final[money_data_final['tariff']=='ultra']['mean'],ddof = 1)\n",
    "print(ultra_var, 'дисперсия тарифа ультра')\n",
    "print(np.sqrt(ultra_var), 'стандартное отклонение для тарифа ультра')"
   ]
  },
  {
   "cell_type": "code",
   "execution_count": 101,
   "metadata": {},
   "outputs": [
    {
     "data": {
      "text/plain": [
       "<matplotlib.axes._subplots.AxesSubplot at 0x7f6d55756208>"
      ]
     },
     "execution_count": 101,
     "metadata": {},
     "output_type": "execute_result"
    },
    {
     "data": {
      "image/png": "[encoded data removed]",
      "text/plain": [
       "<Figure size 432x288 with 1 Axes>"
      ]
     },
     "metadata": {},
     "output_type": "display_data"
    }
   ],
   "source": [
    "money_data_final[money_data_final['tariff']=='smart']['mean'].plot.hist(alpha=0.6)\n",
    "money_data_final[money_data_final['tariff']=='ultra']['mean'].plot.hist(alpha=0.6)"
   ]
  },
  {
   "cell_type": "code",
   "execution_count": 102,
   "metadata": {},
   "outputs": [
    {
     "name": "stdout",
     "output_type": "stream",
     "text": [
      "0.8404558404558404 % пользователей смарт привышают лимит\n",
      "0.2483221476510067 % пользователей ультра привышают лимит\n"
     ]
    }
   ],
   "source": [
    "#как часто привышают лимиты\n",
    "total_smart = money_data_final.query(' tariff == \"smart\"')['mean'].count() \n",
    "smart_over =  money_data_final.query(' (tariff == \"smart\") &(mean != 550)')['mean'].count()\n",
    "total_ultra = money_data_final.query(' tariff == \"ultra\"')['mean'].count() \n",
    "ultra_over = money_data_final.query(' (tariff == \"ultra\") &(mean != 1950)')['mean'].count()\n",
    "\n",
    "print(smart_over/total_smart , '% пользователей смарт привышают лимит')\n",
    "print(ultra_over/total_ultra, '% пользователей ультра привышают лимит' )"
   ]
  },
  {
   "cell_type": "code",
   "execution_count": 103,
   "metadata": {},
   "outputs": [
    {
     "data": {
      "text/plain": [
       "<matplotlib.axes._subplots.AxesSubplot at 0x7f6d537d91d0>"
      ]
     },
     "execution_count": 103,
     "metadata": {},
     "output_type": "execute_result"
    },
    {
     "data": {
      "image/png": "[encoded data removed]",
      "text/plain": [
       "<Figure size 432x288 with 1 Axes>"
      ]
     },
     "metadata": {},
     "output_type": "display_data"
    }
   ],
   "source": [
    "#привышения лимитов\n",
    "money_data_final.query(' (tariff == \"smart\") &(mean != 650)')['mean'].plot.hist(alpha=0.6)\n",
    "money_data_final.query(' (tariff == \"ultra\") &(mean != 1950)')['mean'].plot.hist(alpha=0.6)"
   ]
  },
  {
   "cell_type": "markdown",
   "metadata": {},
   "source": [
    "#### В среднем пользователи ультры отрпаляют больше смсок, хотя обе гистограммы смещены влево и распредлены вокург небольших значений (20 смс в месяц для ссмарт и около 30 для ультра). В ультре сильно представлен сегмент в 50-100 сообщений, в то время как для смарт он идет по естественной ниспадающей.\n",
    "\n",
    "В среднем пользователи ультра траят более чем в два раза больше средств. (2005рубля , против 893рублей) Несмотря на то, что разброс затрат у тарифа ультра больше, его пользователи гораздо реже выходят из лимита и платят сверх абонентской платы. В среднем пользвоатели ултра тратят примерно на 3гб и на 100 минут больше чем пользователи смарта. В смарте 84% так или иначе привышают лимит и тратят дополнительные срдства, в то время как в ультре таких только 24%."
   ]
  },
  {
   "cell_type": "markdown",
   "metadata": {},
   "source": [
    "# Проверка гипотез"
   ]
  },
  {
   "cell_type": "code",
   "execution_count": 104,
   "metadata": {},
   "outputs": [],
   "source": [
    "#средняя выручка пользователей тарифов «Ультра» и «Смарт» различается;\n",
    "#средняя выручка пользователей из Москвы отличается от выручки пользователей из других регионов;\n",
    "#Пороговое значение alpha задайте самостоятельно.\n",
    "#Поясните:\n",
    "#как вы формулировали нулевую и альтернативную гипотезы;\n",
    "#какой критерий использовали для проверки гипотез и почему."
   ]
  },
  {
   "cell_type": "code",
   "execution_count": 105,
   "metadata": {
    "scrolled": true
   },
   "outputs": [
    {
     "name": "stdout",
     "output_type": "stream",
     "text": [
      "  tariff   1       2       3       4       5       6       7       8       9  \\\n",
      "0  ultra NaN  1950.0  1950.0  1950.0  1950.0  1950.0  1950.0  1950.0  1950.0   \n",
      "1  smart NaN   550.0   550.0   550.0   550.0   550.0   550.0   550.0   550.0   \n",
      "2  smart NaN   550.0   550.0   550.0   550.0   550.0   550.0  1150.0  1550.0   \n",
      "3  ultra NaN  1950.0  1950.0  1950.0  1950.0  1950.0  1950.0  1950.0  1950.0   \n",
      "4  ultra NaN  1950.0  1950.0  1950.0  1950.0  1950.0  1950.0  1950.0  1950.0   \n",
      "\n",
      "       10      11      12      sum  month_used         mean  \n",
      "0  1950.0  1950.0  1950.0  21450.0          11  1950.000000  \n",
      "1   550.0   550.0  1150.0   6650.0          11   604.545455  \n",
      "2   950.0   550.0  1350.0   8850.0          11   804.545455  \n",
      "3  1950.0  1950.0  1950.0  21450.0          11  1950.000000  \n",
      "4  1950.0  1950.0  1950.0  21450.0          11  1950.000000  \n"
     ]
    },
    {
     "name": "stderr",
     "output_type": "stream",
     "text": [
      "/opt/conda/lib/python3.7/site-packages/ipykernel_launcher.py:9: SettingWithCopyWarning: \n",
      "A value is trying to be set on a copy of a slice from a DataFrame.\n",
      "Try using .loc[row_indexer,col_indexer] = value instead\n",
      "\n",
      "See the caveats in the documentation: http://pandas.pydata.org/pandas-docs/stable/user_guide/indexing.html#returning-a-view-versus-a-copy\n",
      "  if __name__ == '__main__':\n",
      "/opt/conda/lib/python3.7/site-packages/ipykernel_launcher.py:11: SettingWithCopyWarning: \n",
      "A value is trying to be set on a copy of a slice from a DataFrame.\n",
      "Try using .loc[row_indexer,col_indexer] = value instead\n",
      "\n",
      "See the caveats in the documentation: http://pandas.pydata.org/pandas-docs/stable/user_guide/indexing.html#returning-a-view-versus-a-copy\n",
      "  # This is added back by InteractiveShellApp.init_path()\n",
      "/opt/conda/lib/python3.7/site-packages/ipykernel_launcher.py:12: SettingWithCopyWarning: \n",
      "A value is trying to be set on a copy of a slice from a DataFrame.\n",
      "Try using .loc[row_indexer,col_indexer] = value instead\n",
      "\n",
      "See the caveats in the documentation: http://pandas.pydata.org/pandas-docs/stable/user_guide/indexing.html#returning-a-view-versus-a-copy\n",
      "  if sys.path[0] == '':\n"
     ]
    }
   ],
   "source": [
    "#средняя выручка пользователей тарифов «Ультра» и «Смарт» различается;\n",
    "\n",
    "money_data = users.apply(maketable, name = 'money_spend' , axis=1,result_type='expand')\n",
    "\n",
    "money_data = money_data.rename(columns ={i: i+1 for i in range(12)} ) # переименуем что бы месяца правильно шли\n",
    "money_data2 = users.join(money_data)\n",
    "money_data_final = money_data2.iloc[:,[7,13,14,15,16,17,18,19,20,21,22,23,24]] # для наглядности оставим только нужные столбцы\n",
    "\n",
    "money_data_final['sum']= money_data_final.sum(axis=1)\n",
    "\n",
    "money_data_final['month_used'] = (money_data_final.count(axis =1) - 2)\n",
    "money_data_final['mean'] = money_data_final['sum'] /money_data_final['month_used']\n",
    "print(money_data_final.head())"
   ]
  },
  {
   "cell_type": "code",
   "execution_count": 111,
   "metadata": {},
   "outputs": [
    {
     "name": "stdout",
     "output_type": "stream",
     "text": [
      "1.4038345058140396e-144 pvalue\n",
      "Нулевая гипотеза не потверждена. Принимаем альтерантивную : Средняя выручка для смарт и ультра различаются\n"
     ]
    }
   ],
   "source": [
    "# нулевая гипотеза: Средняя выручка для смарт и ультра одинаковые. \n",
    "#альтерантиваня гипотеза:Средняя выручка для cмарт и ультра различаются \n",
    "alpha = 0.05\n",
    "\n",
    "ultra_money = money_data_final[money_data_final['tariff']== 'ultra']['mean'] #выборка по ультра\n",
    "smart_money = money_data_final[money_data_final['tariff']== 'smart']['mean'] #выборка по смарт\n",
    "\n",
    "result = st.ttest_ind(\n",
    "    ultra_money, \n",
    "    smart_money)\n",
    "\n",
    "print(result.pvalue, 'pvalue')\n",
    "\n",
    "if alpha  < result.pvalue :\n",
    "    print('Нулевая гипотеза подтверждена. Средняя выручка для смарт и ультра одинаковые')\n",
    "else:\n",
    "    print('Нулевая гипотеза не потверждена. Принимаем альтерантивную : Средняя выручка для смарт и ультра различаются')\n",
    "    \n",
    "    \n",
    "    \n",
    "## чем меньше p-value тем меньше шанс принять нулевую гипотезу.\n",
    "#В данном случае p-value меньше назначенных нами 5%, значит нулевая гпиотеза отвергается.\n",
    "# не понимаю где тут ошибка"
   ]
  },
  {
   "cell_type": "code",
   "execution_count": 107,
   "metadata": {},
   "outputs": [
    {
     "name": "stdout",
     "output_type": "stream",
     "text": [
      "          city tariff   1       2       3       4       5       6       7  \\\n",
      "0    Краснодар  ultra NaN  1950.0  1950.0  1950.0  1950.0  1950.0  1950.0   \n",
      "1       Москва  smart NaN   550.0   550.0   550.0   550.0   550.0   550.0   \n",
      "2  Стерлитамак  smart NaN   550.0   550.0   550.0   550.0   550.0   550.0   \n",
      "3       Москва  ultra NaN  1950.0  1950.0  1950.0  1950.0  1950.0  1950.0   \n",
      "4  Новокузнецк  ultra NaN  1950.0  1950.0  1950.0  1950.0  1950.0  1950.0   \n",
      "\n",
      "        8       9      10      11      12      sum  month_used         mean  \n",
      "0  1950.0  1950.0  1950.0  1950.0  1950.0  21450.0          11  1950.000000  \n",
      "1   550.0   550.0   550.0   550.0  1150.0   6650.0          11   604.545455  \n",
      "2  1150.0  1550.0   950.0   550.0  1350.0   8850.0          11   804.545455  \n",
      "3  1950.0  1950.0  1950.0  1950.0  1950.0  21450.0          11  1950.000000  \n",
      "4  1950.0  1950.0  1950.0  1950.0  1950.0  21450.0          11  1950.000000  \n"
     ]
    },
    {
     "name": "stderr",
     "output_type": "stream",
     "text": [
      "/opt/conda/lib/python3.7/site-packages/ipykernel_launcher.py:5: SettingWithCopyWarning: \n",
      "A value is trying to be set on a copy of a slice from a DataFrame.\n",
      "Try using .loc[row_indexer,col_indexer] = value instead\n",
      "\n",
      "See the caveats in the documentation: http://pandas.pydata.org/pandas-docs/stable/user_guide/indexing.html#returning-a-view-versus-a-copy\n",
      "  \"\"\"\n",
      "/opt/conda/lib/python3.7/site-packages/ipykernel_launcher.py:7: SettingWithCopyWarning: \n",
      "A value is trying to be set on a copy of a slice from a DataFrame.\n",
      "Try using .loc[row_indexer,col_indexer] = value instead\n",
      "\n",
      "See the caveats in the documentation: http://pandas.pydata.org/pandas-docs/stable/user_guide/indexing.html#returning-a-view-versus-a-copy\n",
      "  import sys\n",
      "/opt/conda/lib/python3.7/site-packages/ipykernel_launcher.py:8: SettingWithCopyWarning: \n",
      "A value is trying to be set on a copy of a slice from a DataFrame.\n",
      "Try using .loc[row_indexer,col_indexer] = value instead\n",
      "\n",
      "See the caveats in the documentation: http://pandas.pydata.org/pandas-docs/stable/user_guide/indexing.html#returning-a-view-versus-a-copy\n",
      "  \n"
     ]
    }
   ],
   "source": [
    "#средняя выручка пользователей из Москвы отличается от выручки пользователей из других регионов;\n",
    "#тут может получится перекос из-за пользователей ультра. поэому стоит разобрать тарифы по отдельности\n",
    "money_data_final_regions = money_data2.iloc[:,[3,7,13,14,15,16,17,18,19,20,21,22,23,24]]\n",
    "\n",
    "money_data_final_regions['sum']= money_data_final_regions.sum(axis=1)\n",
    "\n",
    "money_data_final_regions['month_used'] = (money_data_final_regions.count(axis =1) - 3)\n",
    "money_data_final_regions['mean'] = money_data_final_regions['sum'] /money_data_final_regions['month_used']\n",
    "print(money_data_final_regions.head())\n",
    "\n",
    "\n",
    "ultra_money_moscow = money_data_final_regions[(money_data_final_regions['tariff']== 'ultra')&(money_data_final_regions['city']== 'Москва')]['mean'] #выборка по ультра Москва\n",
    "ultra_money_regions = money_data_final_regions[(money_data_final_regions['tariff']== 'ultra')&(money_data_final_regions['city']!= 'Москва')]['mean'] #выборка по ультра регионы\n",
    "\n",
    "smart_money_moscow = money_data_final_regions[(money_data_final_regions['tariff']== 'smart')&(money_data_final_regions['city']== 'Москва')]['mean'] #выборка по ультра Москва\n",
    "smart_money_regions = money_data_final_regions[(money_data_final_regions['tariff']== 'smart')&(money_data_final_regions['city']!= 'Москва')]['mean'] #выборка по ультра регионы\n",
    "\n",
    "#smart_money = money_data_final_regions[money_data_final_regions['tariff']== 'smart']['mean'].tolist() #выборка по смарт"
   ]
  },
  {
   "cell_type": "code",
   "execution_count": 108,
   "metadata": {
    "scrolled": true
   },
   "outputs": [
    {
     "name": "stdout",
     "output_type": "stream",
     "text": [
      "0.7112444187323743 pvalue\n",
      "Нулевая гипотеза подтверждена. Средняя выручка ультра для Москвы и регионов одинаковая\n"
     ]
    }
   ],
   "source": [
    "#проверяем нулевую гипотезу: средняя выручка пользователей УЛЬТРА из Москвы и регионов одинаковая;\n",
    "#альтерантивная гипотеза: Средняя выручка ультра для Москвы отличается от выручки пользователей из других регионов\n",
    "alpha = 0.05\n",
    "result = st.ttest_ind(\n",
    "    ultra_money_moscow, \n",
    "    ultra_money_regions)\n",
    "\n",
    "print(result.pvalue, 'pvalue')\n",
    "\n",
    "if alpha < result.pvalue :\n",
    "    print('Нулевая гипотеза подтверждена. Средняя выручка ультра для Москвы и регионов одинаковая')\n",
    "else:\n",
    "    print('Нулевая гипотеза не потверждена.Принимаем альтерантивную:  выручка от пользовальтелей ультра в Москве и регионах разная')\n",
    "    \n",
    "    \n",
    "# pvalue = 0.7, значит выборки по Москве и регионам вобще почти идентичны"
   ]
  },
  {
   "cell_type": "markdown",
   "metadata": {},
   "source": [
    "<font color='brown'>Здесь и ниже более корректно было бы написать \"не удалось отвергнуть нулевую гипотезу\"."
   ]
  },
  {
   "cell_type": "code",
   "execution_count": 109,
   "metadata": {},
   "outputs": [
    {
     "name": "stdout",
     "output_type": "stream",
     "text": [
      "0.1457286949382275 pvalue\n",
      "Нулеваяя гипотеза подтверждена. Средняя выручка смарт для Москвы и регионов одинаковая\n"
     ]
    }
   ],
   "source": [
    "#проверяем нулевую гипотезу: средняя выручка пользователей СМАРТ из Москвы и регионов одинаковая;\n",
    "#альтернативная гипотеза: Средняя выручка смарт для Москвы и регионов различается\n",
    "alpha = 0.05\n",
    "result = st.ttest_ind(\n",
    "    smart_money_moscow, \n",
    "    smart_money_regions)\n",
    "\n",
    "print(result.pvalue, 'pvalue')\n",
    "\n",
    "if alpha <result.pvalue :\n",
    "    print('Нулеваяя гипотеза подтверждена. Средняя выручка смарт для Москвы и регионов одинаковая')\n",
    "else:\n",
    "    print('Нулевая гипотеза не потверждена. Принимаем альтерантивную: выручка  от пользовальтелей смарт в Москве и регионах разная')\n",
    "    "
   ]
  },
  {
   "cell_type": "code",
   "execution_count": 110,
   "metadata": {},
   "outputs": [
    {
     "name": "stdout",
     "output_type": "stream",
     "text": [
      "0.886790087557315 pvalue\n",
      "Нулевая гипотеза подтверждена. Средняя выручка для Москвы и регионов одинаковая\n"
     ]
    }
   ],
   "source": [
    "#проверяем гипотезу: средняя выручка от пользователя из Москвы НЕ отличается от выручки пользователей из других регионов;\n",
    "#альтерантивная гипотеза: Средняя выручка для Москвы и регионов разная\n",
    "\n",
    "total_money_moscow = money_data_final_regions[money_data_final_regions['city']== 'Москва']['mean'] #выборка по ультра Москва\n",
    "total_money_regions = money_data_final_regions[money_data_final_regions['city']!= 'Москва']['mean'] #выборка по ультра регионы\n",
    "\n",
    "result = st.ttest_ind(\n",
    "    total_money_moscow, \n",
    "    total_money_regions)\n",
    "\n",
    "print(result.pvalue, 'pvalue')\n",
    "\n",
    "if alpha <result.pvalue :\n",
    "    print('Нулевая гипотеза подтверждена. Средняя выручка для Москвы и регионов одинаковая')\n",
    "else:\n",
    "    print('Нулевая гипотеза не потверждена. Принимаем альтерантивную:  выручка  от пользовальтелей в Москве и регионах разная')\n",
    "    \n",
    "# таким образом даже разное коилчество пользователей ультра в Москве и регионах не повлияло на вывод"
   ]
  },
  {
   "cell_type": "markdown",
   "metadata": {},
   "source": [
    "# Вывод"
   ]
  },
  {
   "cell_type": "markdown",
   "metadata": {},
   "source": [
    "#### Мы изучили предоставленные данные, дополнили где это было необходимо и свели их в общую удобную таблицу.  Построили гистаграммы по затраченным минутам, смскам, и мегабайтам ежемесячно для пользователей каждого тарифа, почитали дисперсию и нормальное отклонение. Проанализировав графики выяснили различие в поведении пользвателей тарифов. Пользователи Смарт в основном распределены нормально, в то время как польовальтели Ультра чаще смещены в пользу значительно большего и меньшего потребления услуг. Вероятно это связанно с тем, что часть пользовальтелей Ультры выбрали этот тариф по объективным соображениям из-за высоких потребностей, а часть просто взяла полный безлимит что бы не думать о связи, хотя им хватило бы и меньшего тарифа.\n",
    "#### Подтвердилась гипотеза о том, что средняя выручка от пользователей в Москве и регионах принципиально не отличается. В то же время выручка от пользователей разных тарифов отличается сильно."
   ]
  }
 ],
 "metadata": {
  "kernelspec": {
   "display_name": "Python 3",
   "language": "python",
   "name": "python3"
  },
  "language_info": {
   "codemirror_mode": {
    "name": "ipython",
    "version": 3
   },
   "file_extension": ".py",
   "mimetype": "text/x-python",
   "name": "python",
   "nbconvert_exporter": "python",
   "pygments_lexer": "ipython3",
   "version": "3.7.4"
  }
 },
 "nbformat": 4,
 "nbformat_minor": 2
}
